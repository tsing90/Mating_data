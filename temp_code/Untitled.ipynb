{
 "cells": [
  {
   "cell_type": "markdown",
   "metadata": {},
   "source": [
    "## check file"
   ]
  },
  {
   "cell_type": "code",
   "execution_count": 2,
   "metadata": {},
   "outputs": [],
   "source": [
    "import cv2, os\n",
    "import numpy as np\n",
    "from matplotlib import pyplot as plt"
   ]
  },
  {
   "cell_type": "code",
   "execution_count": 6,
   "metadata": {},
   "outputs": [
    {
     "name": "stdout",
     "output_type": "stream",
     "text": [
      "clean.py\n",
      "check.py\n",
      ".ipynb_checkpoints\n",
      "movefile.py\n",
      "Untitled.ipynb\n",
      "sizecheck.py\n",
      "ext changed:  1\n"
     ]
    }
   ],
   "source": [
    "#dir = '/media/kevin/Data/Ubuntu/matting_ait/baidu/'\n",
    "dir = './'\n",
    "imgList = os.listdir(dir)\n",
    "assert imgList!=[]\n",
    "\n",
    "extList = ['.jpg', '.JPG', '.jpeg', '.JPEG','.png', '.PNG', '.ppm', '.PPM', '.bmp', '.BMP', '.tiff']\n",
    "i=0\n",
    "for name in imgList:\n",
    "    prename, ext = os.path.splitext(name)\n",
    "    if ext !='.png' and ext in extList:\n",
    "        if os.path.isfile(dir+prename+'.png'):\n",
    "            print(name)\n",
    "        else:\n",
    "            os.rename(dir+name, dir+prename+'.png')\n",
    "            i+=1\n",
    "    elif ext not in extList:\n",
    "        print(name)\n",
    "\n",
    "print('ext changed: ',i)"
   ]
  },
  {
   "cell_type": "markdown",
   "metadata": {},
   "source": [
    "## make data list"
   ]
  },
  {
   "cell_type": "code",
   "execution_count": 13,
   "metadata": {},
   "outputs": [
    {
     "name": "stdout",
     "output_type": "stream",
     "text": [
      "count: 9762\n"
     ]
    }
   ],
   "source": [
    "root = '/home/kevin/git/matting_data/Supervisely/'\n",
    "imgList = []\n",
    "maskList = []\n",
    "i = 0\n",
    "for subdir in os.listdir(root):\n",
    "    imgPath = os.path.join(root, subdir,'img')\n",
    "    maskPath = os.path.join(root,subdir,'masks_machine')\n",
    "    assert os.path.isdir(imgPath)\n",
    "    assert os.path.isdir(maskPath)\n",
    "    for name in os.listdir(imgPath):\n",
    "        imgList.append(os.path.join(imgPath, name))\n",
    "        i+=1\n",
    "    for name in os.listdir(maskPath):\n",
    "        maskList.append(os.path.join(maskPath, name))\n",
    "        i+=1\n",
    "print('count:',i)\n",
    "with open('super_img.txt','w') as fimg:\n",
    "    for path in imgList[:-1]:\n",
    "        fimg.write(path+'\\n')\n",
    "    fimg.write(imgList[-1])\n",
    "with open('super_msk.txt','w') as fmsk:\n",
    "    for path in maskList[:-1]:\n",
    "        fmsk.write(path+'\\n')\n",
    "    fmsk.write(maskList[-1])"
   ]
  }
 ],
 "metadata": {
  "kernelspec": {
   "display_name": "Python 3",
   "language": "python",
   "name": "python3"
  },
  "language_info": {
   "codemirror_mode": {
    "name": "ipython",
    "version": 3
   },
   "file_extension": ".py",
   "mimetype": "text/x-python",
   "name": "python",
   "nbconvert_exporter": "python",
   "pygments_lexer": "ipython3",
   "version": "3.5.2"
  }
 },
 "nbformat": 4,
 "nbformat_minor": 2
}
